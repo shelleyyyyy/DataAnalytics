{
 "cells": [
  {
   "cell_type": "markdown",
   "metadata": {},
   "source": [
    "# USER DEFINED FUNCTION EXERCISE"
   ]
  },
  {
   "cell_type": "markdown",
   "metadata": {},
   "source": [
    "------------"
   ]
  },
  {
   "cell_type": "markdown",
   "metadata": {},
   "source": [
    "### 1.Write a function to add, subtract, multiply and divide two variables passed to it and print the result "
   ]
  },
  {
   "cell_type": "code",
   "execution_count": 1,
   "metadata": {},
   "outputs": [
    {
     "name": "stdout",
     "output_type": "stream",
     "text": [
      "[15, 5, 50, 2.0]\n"
     ]
    }
   ],
   "source": [
    "\n",
    "def operations(x, y):\n",
    "    arr = []\n",
    "    \n",
    "    z = x + y\n",
    "    arr.append(z)\n",
    "    \n",
    "    z = x - y\n",
    "    arr.append(z)\n",
    "    \n",
    "    z = x * y\n",
    "    arr.append(z)\n",
    "    \n",
    "    z = x / y\n",
    "    arr.append(z)\n",
    "    \n",
    "    return arr\n",
    "\n",
    "print(operations(10, 5))\n",
    "   "
   ]
  },
  {
   "cell_type": "markdown",
   "metadata": {},
   "source": [
    "### 2.Write a Python function given range (1,10) both included, that gives the square of every number"
   ]
  },
  {
   "cell_type": "code",
   "execution_count": 3,
   "metadata": {},
   "outputs": [
    {
     "name": "stdout",
     "output_type": "stream",
     "text": [
      "[1, 4, 9, 16, 25, 36, 49, 64, 81, 100]\n"
     ]
    }
   ],
   "source": [
    "\n",
    "def squares(rs, re):\n",
    "    arr = []\n",
    "    for x in range(rs, re + 1):\n",
    "        arr.append(x * x)\n",
    "    \n",
    "    return arr\n",
    "\n",
    "print(squares(1, 10))\n"
   ]
  },
  {
   "cell_type": "markdown",
   "metadata": {},
   "source": [
    "### 3.Write a function to calculate simple interest\n",
    "\n",
    "simple interest = (Principal amount * Annual Rate of interest * Time(in years))/100\n",
    "\n",
    "Take values as follows\n",
    "\n",
    "Principal Amount = 1000\n",
    "\n",
    "Rate of interest = 3%\n",
    "\n",
    "Time = 5 years"
   ]
  },
  {
   "cell_type": "code",
   "execution_count": 7,
   "metadata": {},
   "outputs": [
    {
     "name": "stdout",
     "output_type": "stream",
     "text": [
      "150.0\n"
     ]
    }
   ],
   "source": [
    "def simpleInterest(pa, ar, t):\n",
    "    si = (pa * ar * t/100)  \n",
    "    \n",
    "    return si\n",
    "\n",
    "print(simpleInterest(1000, 3, 5))"
   ]
  },
  {
   "cell_type": "markdown",
   "metadata": {},
   "source": [
    "### 4. Write a function to check if number is divisible by 25. The function should return True if divisible and \"Not divisible if not"
   ]
  },
  {
   "cell_type": "code",
   "execution_count": 9,
   "metadata": {},
   "outputs": [
    {
     "name": "stdout",
     "output_type": "stream",
     "text": [
      "False\n"
     ]
    }
   ],
   "source": [
    "def _d25(x):\n",
    "    if x % 25 == 0:\n",
    "        return True\n",
    "    else:\n",
    "        return False\n",
    "    \n",
    "    \n",
    "print(_d25(70))"
   ]
  },
  {
   "cell_type": "markdown",
   "metadata": {},
   "source": [
    "### 5.Define a function that takes an input, squares it, adds 5, then returns the answer"
   ]
  },
  {
   "cell_type": "code",
   "execution_count": 10,
   "metadata": {},
   "outputs": [
    {
     "name": "stdout",
     "output_type": "stream",
     "text": [
      "30\n"
     ]
    }
   ],
   "source": [
    "def do_some_math(x):\n",
    "    x = x * x\n",
    "    x = x + 5\n",
    "    return x\n",
    "\n",
    "print(do_some_math(5))"
   ]
  },
  {
   "cell_type": "markdown",
   "metadata": {},
   "source": [
    "### 6. Write a function to calculate the power of a number raised to other ( a^b )"
   ]
  },
  {
   "cell_type": "code",
   "execution_count": 12,
   "metadata": {},
   "outputs": [
    {
     "name": "stdout",
     "output_type": "stream",
     "text": [
      "125\n"
     ]
    }
   ],
   "source": [
    "import numpy as np\n",
    "\n",
    "def sqr(x, y):\n",
    "    return np.power(x, y)\n",
    "    \n",
    "print(sqr(5, 3))"
   ]
  },
  {
   "cell_type": "markdown",
   "metadata": {},
   "source": [
    "### 7. Write a function to calculate the area of a triangle\n",
    "\n",
    "area of triangle = 1/2 * base * height"
   ]
  },
  {
   "cell_type": "code",
   "execution_count": 13,
   "metadata": {},
   "outputs": [
    {
     "name": "stdout",
     "output_type": "stream",
     "text": [
      "12.5\n"
     ]
    }
   ],
   "source": [
    "def tri_area(b, h):\n",
    "    a = .5 * b * h\n",
    "    return a\n",
    "\n",
    "print(tri_area(5, 5))"
   ]
  },
  {
   "cell_type": "markdown",
   "metadata": {},
   "source": [
    "### 8. Create a function that takes country as the input and returns \"I am from *Country* \""
   ]
  },
  {
   "cell_type": "code",
   "execution_count": 15,
   "metadata": {},
   "outputs": [
    {
     "name": "stdout",
     "output_type": "stream",
     "text": [
      "I am from The US\n"
     ]
    }
   ],
   "source": [
    "def country(str):\n",
    "    return \"I am from \" + str\n",
    "\n",
    "print(country(\"The US\"))"
   ]
  },
  {
   "cell_type": "markdown",
   "metadata": {},
   "source": [
    "### 9. Write a function to convert degree Celcius temperature to Fahrenheit"
   ]
  },
  {
   "cell_type": "code",
   "execution_count": 18,
   "metadata": {},
   "outputs": [
    {
     "name": "stdout",
     "output_type": "stream",
     "text": [
      "32.0\n"
     ]
    }
   ],
   "source": [
    "# I googled the formula for this\n",
    "\n",
    "def c_2_f(c):\n",
    "    f = (c * 9) / 5 + 32\n",
    "    return f\n",
    "\n",
    "print(c_2_f(0))"
   ]
  }
 ],
 "metadata": {
  "kernelspec": {
   "display_name": "Python 3",
   "language": "python",
   "name": "python3"
  },
  "language_info": {
   "codemirror_mode": {
    "name": "ipython",
    "version": 3
   },
   "file_extension": ".py",
   "mimetype": "text/x-python",
   "name": "python",
   "nbconvert_exporter": "python",
   "pygments_lexer": "ipython3",
   "version": "3.9.10"
  }
 },
 "nbformat": 4,
 "nbformat_minor": 4
}

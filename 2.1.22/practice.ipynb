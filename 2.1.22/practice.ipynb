{
 "cells": [
  {
   "cell_type": "code",
   "execution_count": 10,
   "metadata": {},
   "outputs": [
    {
     "name": "stdout",
     "output_type": "stream",
     "text": [
      "['learning', 'python', 'is', 'fun']\n",
      "['learning', 'python', 'is', 'fun', 'just kidding']\n",
      "['learning', 'python', 'fun', 'just kidding']\n",
      "list 2:  ['learning', 'python', 'fun', 'just kidding']\n",
      "list 3:  ['learning', 'python', 'fun', 'just kidding', 'learning', 'python', 'fun', 'just kidding']\n",
      "55\n",
      "10\n"
     ]
    }
   ],
   "source": [
    "list = ['learning', 'python', 'is', 'fun']\n",
    "\n",
    "print(list)\n",
    "\n",
    "list.append(\"just kidding\")\n",
    "\n",
    "print(list)\n",
    "\n",
    "list.remove('is')\n",
    "\n",
    "print(list)\n",
    "\n",
    "list2 = list\n",
    "\n",
    "print('list 2: ', list2)\n",
    "\n",
    "l3 = list + list2\n",
    "\n",
    "print('list 3: ', l3)\n",
    "\n",
    "intList = [1, 2, 3, 4, 5, 6, 7, 8, 9, 10]\n",
    "\n",
    "print(sum(intList))\n",
    "print(len(intList))\n",
    "\n"
   ]
  },
  {
   "cell_type": "code",
   "execution_count": 15,
   "id": "198eca23",
   "metadata": {},
   "outputs": [
    {
     "name": "stdout",
     "output_type": "stream",
     "text": [
      "5.454545454545454\n",
      "5.0\n",
      "5\n"
     ]
    }
   ],
   "source": [
    "import numpy as np\n",
    "\n",
    "intList = [1, 2, 3, 4, 5, 5, 6, 7, 8, 9, 10]\n",
    "\n",
    "print(np.mean(intList))\n",
    "# print(np.range(intList))\n",
    "print(np.median(intList))\n",
    "\n"
   ]
  },
  {
   "cell_type": "code",
   "execution_count": 36,
   "id": "daf8d0ef",
   "metadata": {},
   "outputs": [
    {
     "name": "stdout",
     "output_type": "stream",
     "text": [
      "[[1 2 3]\n",
      " [4 5 6]\n",
      " [7 8 9]]\n",
      "[ 0  1  2  3  4  5  6  7  8  9 10 11 12 13 14]\n",
      "[0. 1. 2. 3. 4. 5. 6. 7. 8. 9.]\n",
      "[[0. 1. 2. 3. 4.]\n",
      " [5. 6. 7. 8. 9.]]\n"
     ]
    }
   ],
   "source": [
    "\n",
    "vec = np.array([1, 2, 3])\n",
    "\n",
    "# print(vec)\n",
    "\n",
    "\n",
    "mat = np.array([[1, 2, 3], [4, 5, 6], [7, 8, 9]])\n",
    "\n",
    "print(mat)\n",
    "# print(mat.T)\n",
    "\n",
    "vec1 = np.arange(0, 15)\n",
    "\n",
    "print(vec1)\n",
    "\n",
    "vec3 = np.linspace(0, 9, 10)\n",
    "\n",
    "print(vec3)\n",
    "\n",
    "vec4 = vec3.reshape(2, 5)\n",
    "\n",
    "print(vec4)"
   ]
  },
  {
   "cell_type": "code",
   "execution_count": 44,
   "id": "50c369f1",
   "metadata": {},
   "outputs": [
    {
     "name": "stdout",
     "output_type": "stream",
     "text": [
      "[ 5.4  6.1  1.7 99.8]\n",
      "0     5.4\n",
      "1     6.1\n",
      "2     1.7\n",
      "3    99.8\n",
      "dtype: float64\n",
      "1.7\n",
      "second     5.4\n",
      "second     6.1\n",
      "third      1.7\n",
      "fourth    99.8\n",
      "dtype: float64\n",
      "second    5.4\n",
      "second    6.1\n",
      "dtype: float64\n"
     ]
    }
   ],
   "source": [
    "import pandas as pd\n",
    "\n",
    "list = [5.4, 6.1, 1.7, 99.8]\n",
    "\n",
    "arr = np.array(list)\n",
    "\n",
    "print(arr)\n",
    "\n",
    "s = pd.Series(data = list)\n",
    "print(s)\n",
    "\n",
    "print(s[2])\n",
    "\n",
    "label = ['second', 'second', 'third', 'fourth']\n",
    "\n",
    "s = pd.Series(data = list, index = label)\n",
    "\n",
    "print(s)\n",
    "\n",
    "print(s['second'])"
   ]
  },
  {
   "cell_type": "code",
   "execution_count": 71,
   "id": "76057fbe",
   "metadata": {},
   "outputs": [
    {
     "data": {
      "text/html": [
       "<div>\n",
       "<style scoped>\n",
       "    .dataframe tbody tr th:only-of-type {\n",
       "        vertical-align: middle;\n",
       "    }\n",
       "\n",
       "    .dataframe tbody tr th {\n",
       "        vertical-align: top;\n",
       "    }\n",
       "\n",
       "    .dataframe thead th {\n",
       "        text-align: right;\n",
       "    }\n",
       "</style>\n",
       "<table border=\"1\" class=\"dataframe\">\n",
       "  <thead>\n",
       "    <tr style=\"text-align: right;\">\n",
       "      <th></th>\n",
       "      <th>X</th>\n",
       "      <th>Y</th>\n",
       "    </tr>\n",
       "  </thead>\n",
       "  <tbody>\n",
       "    <tr>\n",
       "      <th>first</th>\n",
       "      <td>5.4</td>\n",
       "      <td>5.1</td>\n",
       "    </tr>\n",
       "    <tr>\n",
       "      <th>second</th>\n",
       "      <td>6.1</td>\n",
       "      <td>1.1</td>\n",
       "    </tr>\n",
       "    <tr>\n",
       "      <th>third</th>\n",
       "      <td>1.7</td>\n",
       "      <td>8.8</td>\n",
       "    </tr>\n",
       "    <tr>\n",
       "      <th>fourth</th>\n",
       "      <td>99.8</td>\n",
       "      <td>1.6</td>\n",
       "    </tr>\n",
       "  </tbody>\n",
       "</table>\n",
       "</div>"
      ],
      "text/plain": [
       "           X    Y\n",
       "first    5.4  5.1\n",
       "second   6.1  1.1\n",
       "third    1.7  8.8\n",
       "fourth  99.8  1.6"
      ]
     },
     "execution_count": 71,
     "metadata": {},
     "output_type": "execute_result"
    }
   ],
   "source": [
    "list = [5.4, 6.1, 1.7, 99.8]\n",
    "\n",
    "arr = np.array(list)\n",
    "\n",
    "\n",
    "s = pd.Series(data = list)\n",
    "\n",
    "label = ['first', 'second', 'third', 'fourth']\n",
    "\n",
    "s = pd.Series(data = list, index = label)\n",
    "\n",
    "s2 = pd.Series([5.1, 1.1, 8.8, 1.6], index = label)\n",
    "\n",
    "df1 = pd.concat([s, s2], axis = 1, sort = False)\n",
    "\n",
    "df2 = df1.rename({0: 'X', 1: 'Y'}, axis=1)\n",
    "\n",
    "df2\n",
    "\n",
    "# ax = df1.plot(lw=2, colormap='jet', marker='.', markersize=10, \n",
    "#          title='shellies graph')\n",
    "\n",
    "# ax.set(xlabel=\"x label\", ylabel=\"y label\")\n",
    "\n",
    "\n"
   ]
  },
  {
   "cell_type": "code",
   "execution_count": 78,
   "id": "02da7815",
   "metadata": {},
   "outputs": [
    {
     "data": {
      "text/plain": [
       "[Text(0.5, 0, 'x label'), Text(0, 0.5, 'y label')]"
      ]
     },
     "execution_count": 78,
     "metadata": {},
     "output_type": "execute_result"
    },
    {
     "data": {
      "image/png": "[encoded data removed]",
      "text/plain": [
       "<Figure size 432x288 with 1 Axes>"
      ]
     },
     "metadata": {
      "needs_background": "light"
     },
     "output_type": "display_data"
    }
   ],
   "source": [
    "s = pd.Series([101, 99, 34, 23, 12])\n",
    "s2 = pd.Series([101, 2, 34, 23, 12])\n",
    "s3 = pd.Series([101, 10, 34, 23, 12])\n",
    "s4 = pd.Series([101, 12, 34, 23, 12])\n",
    "\n",
    "df = pd.concat([s, s2, s3, s4], axis=1, sort=False)\n",
    "\n",
    "df1 = df.rename({0: 'X', 1: 'Y', 2: 'Z', 3: 'XX'}, axis=1)\n",
    "\n",
    "df1\n",
    "\n",
    "ax = df1.plot(lw=2, colormap='jet', marker='.', markersize=10, \n",
    "         title='shellies graph')\n",
    "\n",
    "ax.set(xlabel=\"x label\", ylabel=\"y label\")"
   ]
  }
 ],
 "metadata": {
  "interpreter": {
   "hash": "c0acacefa1b492d3181766241476fe2d868ca237765187d204393d25d1696e81"
  },
  "kernelspec": {
   "display_name": "Python 3.9.10 64-bit (windows store)",
   "language": "python",
   "name": "python3"
  },
  "language_info": {
   "codemirror_mode": {
    "name": "ipython",
    "version": 3
   },
   "file_extension": ".py",
   "mimetype": "text/x-python",
   "name": "python",
   "nbconvert_exporter": "python",
   "pygments_lexer": "ipython3",
   "version": "3.9.10"
  }
 },
 "nbformat": 4,
 "nbformat_minor": 5
}

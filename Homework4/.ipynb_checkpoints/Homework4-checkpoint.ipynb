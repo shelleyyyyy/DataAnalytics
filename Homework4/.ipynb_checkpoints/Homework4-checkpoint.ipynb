{
 "cells": [
  {
   "cell_type": "code",
   "execution_count": 1,
   "metadata": {},
   "outputs": [],
   "source": [
    "from scipy.stats import poisson\n",
    "from scipy.stats import norm\n",
    "import numpy as np\n",
    "from scipy.stats import t\n",
    "from scipy.stats import binom\n",
    "import math"
   ]
  },
  {
   "cell_type": "markdown",
   "metadata": {},
   "source": [
    "Over a long period in a large multinomial corporation, 10% of all sales trainees are \n",
    "rated as outstanding, 75% are rated as excellent, 10% are rated as satisfactory and \n",
    "5% are considered unsatisfactory. Find the following probabilities for a sample of 10 \n",
    "trainees selected at random. \n",
    "* Two are rated as outstanding \n",
    "* Two or more are rated as outstanding \n",
    "* Eight of the ten are rated either outstanding or excellent \n",
    "* None of the trainees are rated as unsatisfactory "
   ]
  },
  {
   "cell_type": "code",
   "execution_count": 7,
   "metadata": {},
   "outputs": [
    {
     "name": "stdout",
     "output_type": "stream",
     "text": [
      "0.19371024450000007\n",
      "0.8062897554999999\n",
      "0.28156793804736324\n",
      "0.5987369392383787\n"
     ]
    }
   ],
   "source": [
    "\n",
    "# two are rated as outstanding\n",
    "x = 2\n",
    "n = 10\n",
    "p = 0.1\n",
    "two_outstanding = binom.pmf(x, n, p)\n",
    "print(two_outstanding)\n",
    "\n",
    "# two or more are outstanding\n",
    "two_or_more = 1 - two_outstanding\n",
    "print(two_or_more)\n",
    "\n",
    "# eight are outstanding or excelent \n",
    "eight_outstanding = binom.pmf(8, n, p)\n",
    "eight_excelent = binom.pmf(8, n, .75)\n",
    "eight_outstanding_or_excelent = eight_outstanding + eight_excelent\n",
    "print(eight_outstanding_or_excelent)\n",
    "\n",
    "# none are unsatisfactory\n",
    "none = binom.pmf(0, n, .05)\n",
    "print(none)\n",
    "    "
   ]
  },
  {
   "cell_type": "markdown",
   "metadata": {},
   "source": [
    "According to the Telecommunication Industry the average monthly cell phone bill is \n",
    "Rs. 850 with a standard deviation of Rs. 150. Assuming that the monthly bill follows \n",
    "normal distribution answer the following \n",
    "* What is the probability that a randomly selected cell phone bill is more than Rs \n",
    "1200? \n",
    "* What is the probability that a randomly selected cell phone bill is between Rs 750 \n",
    "and Rs 1200? \n",
    "* What is the probability that a randomly selected cell phone bill is no more than Rs \n",
    "650? \n",
    "* What is the amount below which lies bottom 25% of cell phone bills? "
   ]
  },
  {
   "cell_type": "code",
   "execution_count": 2,
   "metadata": {},
   "outputs": [
    {
     "name": "stdout",
     "output_type": "stream",
     "text": [
      "0.009815328628645315\n",
      "0.7376921338244318\n",
      "0.09121121972586788\n",
      "748.8265374705877\n"
     ]
    }
   ],
   "source": [
    "mu = 850\n",
    "sigma = 150\n",
    "\n",
    "# question one\n",
    "less_than_1200 = norm.cdf(1200, mu, sigma)\n",
    "q1 = 1 - less_than_1200\n",
    "print(q1)\n",
    "\n",
    "# question two\n",
    "z_lower = norm.cdf(750, mu, sigma)\n",
    "z_upper = norm.cdf(1200, mu, sigma)    \n",
    "q2 = z_upper - z_lower\n",
    "print(q2)\n",
    "\n",
    "# question three\n",
    "z = norm.cdf(650, mu, sigma)\n",
    "q3 = z\n",
    "print(z)\n",
    "\n",
    "# question four\n",
    "z = norm.ppf(.25, mu, sigma)\n",
    "print(z)"
   ]
  },
  {
   "cell_type": "markdown",
   "metadata": {},
   "source": [
    "A random sample of 40 households was selected as part of a study on electricity usage, and \n",
    "the number of kilowatt-hours (kWh) was recorded for each household in the sample for the \n",
    "March quarter of 2020. The average usage was found to be 310kWh. In a very large study \n",
    "in the March quarter of the previous year it was found that the standard deviation of the \n",
    "usage was 89kWh. \n",
    " \n",
    "Assuming the standard deviation is unchanged, and that the usage is normally distributed, \n",
    "calculate a 95% confidence interval for the mean usage in the March quarter of 2019. "
   ]
  },
  {
   "cell_type": "code",
   "execution_count": 3,
   "metadata": {},
   "outputs": [
    {
     "name": "stdout",
     "output_type": "stream",
     "text": [
      "[281.54 338.46]\n"
     ]
    }
   ],
   "source": [
    "# sigma is unknown so I am using the t.interval\n",
    "\n",
    "x_bar, s = 310, 89\n",
    "n = 40\n",
    "k = n -1\n",
    "\n",
    "ci = t.interval(0.95, df=k, loc=x_bar, scale=s/np.sqrt(n))\n",
    "\n",
    "print(np.round(ci, 2))"
   ]
  },
  {
   "cell_type": "markdown",
   "metadata": {},
   "source": [
    "Data: 44 elementary school students were randomly assigned to one of two methods of \n",
    "teaching  reading  comprehension.  Both  methods  were  designed  so  that  they  could  be    \n",
    "delivered  to  individual  students  rather  than  to  whole  classes.  Students’  reading \n",
    "comprehension was tested before and after 3 weeks of their assigned method. Each student’s \n",
    "comprehension change (post minus pre) is given below. Positive change indicates improved \n",
    "reading comprehension.  \n",
    "Method: Basal \n",
    "1, 1.5, -2.5, -2.5, -1, -5.5, -2.5, -4.5, 0, -1, -2, -1.5, -3.5, 1, -2, -0.5, -3.5, -3.5, -2.5, -3.5, -0.5, 0  \n",
    "Method: DRTA \n",
    "2, -1, 0, 0.5, -1.5, -1, 2, 1.5, -0.5, -1.5, 0, -0.5, 2, -0.5, 1, 4.5, 2, -1.5, 2.5, 0.5, 1.5, 1  "
   ]
  },
  {
   "cell_type": "markdown",
   "metadata": {},
   "source": [
    "1. Perform a one-sample t-test to test whether the DRTA method induced any [non-zero \n",
    "average] reading comprehension change. Report the following  \n",
    "* Null and alternative hypotheses \n",
    "* Numeric value of the test statistic here  \n",
    "* Value of (or useful range for) the p-value \n",
    "* Conclusion in context of these data (not just “reject” or “fail to reject” the null)  "
   ]
  },
  {
   "cell_type": "code",
   "execution_count": 4,
   "metadata": {},
   "outputs": [],
   "source": [
    "b = [1, 1.5, -2.5, -2.5, -1, -5.5, -2.5, -4.5, 0, -1, -2, -1.5, -3.5, 1, -2, -0.5, -3.5, -3.5, -2.5, -3.5, -0.5, 0]\n",
    "d = [2, -1, 0, 0.5, -1.5, -1, 2, 1.5, -0.5, -1.5, 0, -0.5, 2, -0.5, 1, 4.5, 2, -1.5, 2.5, 0.5, 1.5, 1]"
   ]
  },
  {
   "cell_type": "markdown",
   "metadata": {},
   "source": [
    "#### Null and Alternitve Hypothesis\n",
    "\n",
    "* Null Hypothesis\n",
    "\n",
    "The mean of the data will equal 0.\n",
    "\n",
    "* Alternitive Hypothesis\n",
    "\n",
    "The mean of the data will not equal 0."
   ]
  },
  {
   "cell_type": "code",
   "execution_count": 5,
   "metadata": {},
   "outputs": [
    {
     "name": "stdout",
     "output_type": "stream",
     "text": [
      "Basal\n",
      "test stat, p value\n",
      "-4.47922339374308 , 0.00020661909714659514\n",
      "DRTA\n",
      "test stat, p value\n",
      "1.7729889492026412 , 0.09073686490777766\n"
     ]
    }
   ],
   "source": [
    "b_mean = np.mean(b)\n",
    "d_mean = np.mean(d)\n",
    "\n",
    "# print(b_mean, \", \", d_mean)\n",
    "\n",
    "from scipy.stats import ttest_1samp\n",
    "\n",
    "print(\"Basal\")\n",
    "b_stat, b_p = ttest_1samp(b, popmean = 0, alternative=\"two-sided\")\n",
    "print(\"test stat, p value\")\n",
    "print(b_stat, \",\", b_p)\n",
    "\n",
    "print(\"DRTA\")\n",
    "d_stat, d_p = ttest_1samp(d, popmean = 0, alternative=\"two-sided\")\n",
    "print(\"test stat, p value\")\n",
    "print(d_stat, \",\", d_p)\n",
    "\n"
   ]
  },
  {
   "cell_type": "markdown",
   "metadata": {},
   "source": [
    "Because the degree of convidense was not given I chose to default to a critical value of df = 21 and 95% confidense, which is a critical value of \n",
    "2.080. \n",
    "\n",
    "Because this is a two tail test if the absolute value is of the test statistic is greater than the critical value we will regect the null hypothesis else we will fail to reject. \n",
    "\n",
    "The test statistic was 1.77 for the DRTA which is not in the rejection region which means that the change was not significant to say that the teaching style produced a change in reading comprehension skills. \n",
    "\n",
    "There fore we fail to reject the null hypothesis because the test statistic found is less than our critical value. "
   ]
  },
  {
   "cell_type": "markdown",
   "metadata": {},
   "source": [
    "2. Perform a two-sample t-test (or t-test to compare two means) to test whether the \n",
    "[average] reading comprehension change induced by the two methods is the same. \n",
    "Report the following: \n",
    "* Null and alternative hypotheses \n",
    "* Numeric value of the test statistic here  \n",
    "* Value of (or useful range for) the p-value \n",
    "* Conclusion in context of these data (not just “reject” or “fail to reject” the null) "
   ]
  },
  {
   "cell_type": "code",
   "execution_count": 6,
   "metadata": {},
   "outputs": [
    {
     "name": "stdout",
     "output_type": "stream",
     "text": [
      "Ttest_indResult(statistic=-4.568237979346378, pvalue=4.268127482703763e-05)\n"
     ]
    }
   ],
   "source": [
    "from scipy.stats import ttest_ind\n",
    "\n",
    "test_stat = ttest_ind(b, d, alternative=\"two-sided\")\n",
    "\n",
    "print(test_stat)"
   ]
  },
  {
   "cell_type": "markdown",
   "metadata": {},
   "source": [
    "* Null Hypotheses \n",
    "\n",
    "Both of the means will be equal. \n",
    "\n",
    "* Alternative hypothesis\n",
    "\n",
    "Both of the hypotheses iwll not be equal. \n",
    "\n",
    "\n",
    "\n",
    "Becasue we are using the critical value of 2.080 we can say that the two means are not equal. So we reject the null hypothesis because the statistic of 4.57 is greater than the critical value of 2.080."
   ]
  },
  {
   "cell_type": "markdown",
   "metadata": {},
   "source": [
    "3. Suppose we are studying the effect of diet on height of children, and we have two diets \n",
    "to compare: Diet A and Diet B. We wish to find the diet that helps children grow (in \n",
    "height) fastest. We have decided to use 20 children in the experiment. Suppose we \n",
    "choose an appropriate randomization method.  After six months on their designated \n",
    "diet, the following changes in children’s heights were observed (in cm):  \n"
   ]
  },
  {
   "cell_type": "markdown",
   "metadata": {},
   "source": [
    "Diet A: 0.01 0.75   0.79   0.12   0.92   0.18   1.44   0.16   0.22   3.53  \n",
    "Diet B: 0.15   0.26   0.82   0.35   0.70   0.67   0.01   0.71   0.71 1.38  \n",
    "Use Python to perform an appropriate statistical test. Specify  \n",
    "* the hypotheses,  \n",
    "* test statistic,  \n",
    "* P-value, and  \n",
    "* conclusion in context."
   ]
  },
  {
   "cell_type": "markdown",
   "metadata": {},
   "source": [
    "* Null Hypothesis \n",
    " There is no change in height for the children on either diet.\n",
    " mu = 0\n",
    "\n",
    "* Alternative Hypothesis\n",
    "There will be a change in height for either diet a or diet b. \n",
    "mu does not equal 0"
   ]
  },
  {
   "cell_type": "code",
   "execution_count": 7,
   "metadata": {},
   "outputs": [
    {
     "name": "stdout",
     "output_type": "stream",
     "text": [
      "stat_a:  2.424515599481337\n",
      "p-value_b:  0.038325749578909746\n",
      "stat_b:  4.587510025160624\n",
      "p-value_b:  0.0013136801552716569\n"
     ]
    }
   ],
   "source": [
    "diet_a = [0.01, 0.75, 0.79, 0.12, 0.92, 0.18, 1.44, 0.16, 0.22, 3.53] \n",
    "diet_b = [0.15, 0.26, 0.82, 0.35, 0.70, 0.67, 0.01, 0.71, 0.71, 1.38]\n",
    "\n",
    "stat_a, p_value_a = ttest_1samp(diet_a, 0, alternative=\"two-sided\")\n",
    "stat_b, p_value_b = ttest_1samp(diet_b, 0, alternative=\"two-sided\")\n",
    "\n",
    "\n",
    "print(\"stat_a: \", stat_a)\n",
    "print(\"p-value_b: \", p_value_a)\n",
    "\n",
    "print(\"stat_b: \", stat_b)\n",
    "print(\"p-value_b: \", p_value_b)"
   ]
  },
  {
   "cell_type": "markdown",
   "metadata": {},
   "source": [
    "Conclusion \n",
    "\n",
    "using the 95% significance the critical value is 2.080 which means that both the test statistics for diet a and diet b are both in the regection regaion, \n",
    "so we reject the null hypothesis for both diet a and diet b. "
   ]
  },
  {
   "cell_type": "markdown",
   "metadata": {},
   "source": [
    "4.  The average mass of acorns from the same N = 30 trees downwind of a power plant is \n",
    "measured before (x1) and after (x2) the power plant converts from burning coal to burning \n",
    "natural gas. Does the mass of the acorns change after the conversion from coal to natural \n",
    "gas at a significance level of 0.05?\n",
    "\n",
    "Sample before conversion to natural gas \n",
    "x1 = np.array([10.8, 6.4, 8.3, 7.6, 11.4, 9.9, 10.6, 8.7, 8.1, 10.9, 11.0, 11.8, 7.3, 9.6, 9.3, \n",
    "9.9, 9.0, 9.5, 10.6, 10.3, 8.8, 12.3, 8.9, 10.5, 11.6, 7.6, 8.9, 10.4, 10.2, 8.8]) \n",
    "\n",
    "Sample after conversion to natural gas \n",
    "x2 = np.array([10.1, 6.9, 8.6, 8.8, 12.1, 11.3, 12.4, 9.3, 9.3, 10.8, 12.4, 11.5, 7.4, 10.0, \n",
    "11.1, 10.6, 9.4, 9.5, 10.0, 10.0, 9.7, 13.5, 9.6, 11.6, 11.7, 7.9, 8.6, 10.8, 9.5, 9.6]) \n",
    " "
   ]
  },
  {
   "cell_type": "code",
   "execution_count": 8,
   "metadata": {},
   "outputs": [],
   "source": [
    "x1 = np.array([10.8, 6.4, 8.3, 7.6, 11.4, 9.9, 10.6, 8.7, 8.1, 10.9, 11.0, 11.8, 7.3, 9.6, 9.3, 9.9, 9.0, 9.5, 10.6, 10.3, 8.8, 12.3, 8.9, 10.5, 11.6, 7.6, 8.9, 10.4, 10.2, 8.8])\n",
    "x2 = np.array([10.1, 6.9, 8.6, 8.8, 12.1, 11.3, 12.4, 9.3, 9.3, 10.8, 12.4, 11.5, 7.4, 10.0, 11.1, 10.6, 9.4, 9.5, 10.0, 10.0, 9.7, 13.5, 9.6, 11.6, 11.7, 7.9, 8.6, 10.8, 9.5, 9.6]) "
   ]
  },
  {
   "cell_type": "code",
   "execution_count": 9,
   "metadata": {},
   "outputs": [
    {
     "name": "stdout",
     "output_type": "stream",
     "text": [
      "Ttest_indResult(statistic=-1.3025575197896289, pvalue=0.1978743068696181)\n"
     ]
    }
   ],
   "source": [
    "test_stat = ttest_ind(x1, x2, alternative=\"two-sided\")\n",
    "\n",
    "print(test_stat)"
   ]
  },
  {
   "cell_type": "markdown",
   "metadata": {},
   "source": [
    "Null Hypothesis\n",
    "mu = 30\n",
    "Alternitive Hypothesis\n",
    "mu does not equal 30\n",
    "\n",
    "at significance level of 0.05 we will fail to reject the null hypothesis. This is because the test statistic does not go past the critical value of 2.080. "
   ]
  }
 ],
 "metadata": {
  "interpreter": {
   "hash": "c0acacefa1b492d3181766241476fe2d868ca237765187d204393d25d1696e81"
  },
  "kernelspec": {
   "display_name": "Python 3 (ipykernel)",
   "language": "python",
   "name": "python3"
  },
  "language_info": {
   "codemirror_mode": {
    "name": "ipython",
    "version": 3
   },
   "file_extension": ".py",
   "mimetype": "text/x-python",
   "name": "python",
   "nbconvert_exporter": "python",
   "pygments_lexer": "ipython3",
   "version": "3.9.7"
  }
 },
 "nbformat": 4,
 "nbformat_minor": 2
}

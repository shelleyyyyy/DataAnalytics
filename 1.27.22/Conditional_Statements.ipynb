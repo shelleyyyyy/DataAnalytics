{
 "cells": [
  {
   "cell_type": "markdown",
   "metadata": {},
   "source": [
    "# CONDITIONAL STATEMENTS EXERCISE"
   ]
  },
  {
   "cell_type": "markdown",
   "metadata": {},
   "source": [
    "---------------"
   ]
  },
  {
   "cell_type": "markdown",
   "metadata": {},
   "source": [
    "### 1. Check if a is equal to 10, If yes, print \"Hello\", else print \"Good Bye\"\n",
    "a = 56"
   ]
  },
  {
   "cell_type": "code",
   "execution_count": 1,
   "metadata": {},
   "outputs": [
    {
     "name": "stdout",
     "output_type": "stream",
     "text": [
      "goodbye\n"
     ]
    }
   ],
   "source": [
    "a = 56\n",
    "\n",
    "if a == 10:\n",
    "    print(\"hello\")\n",
    "else: \n",
    "    print(\"goodbye\")"
   ]
  },
  {
   "cell_type": "markdown",
   "metadata": {},
   "source": [
    "### 2. Check whether a number is even or odd\n",
    "a = 2020"
   ]
  },
  {
   "cell_type": "code",
   "execution_count": 2,
   "metadata": {},
   "outputs": [
    {
     "name": "stdout",
     "output_type": "stream",
     "text": [
      "a is even\n"
     ]
    }
   ],
   "source": [
    "a = 2020\n",
    "\n",
    "if a % 2 == 0:\n",
    "    print(\"a is even\")\n",
    "else:\n",
    "    print(\"a is odd\")"
   ]
  },
  {
   "cell_type": "markdown",
   "metadata": {},
   "source": [
    "### 3.  Check whether the area of the rectangle is greater than the perimeter of the rectangle\n",
    "length = 5\n",
    "breadth = 10\n",
    "\n",
    "Hint: Area of rectangle = length * breadth \n",
    "\n",
    "Hint: Perimeter of rectangle = 2 * (length + breadth)"
   ]
  },
  {
   "cell_type": "code",
   "execution_count": 3,
   "metadata": {},
   "outputs": [
    {
     "name": "stdout",
     "output_type": "stream",
     "text": [
      "50 30\n"
     ]
    }
   ],
   "source": [
    "l = 5\n",
    "b = 10\n",
    "\n",
    "def rectangle_stat(l, b):\n",
    "    area = l * b\n",
    "    perim = 2 * (l + b)\n",
    "    \n",
    "    return area, perim\n",
    "\n",
    "area, perim = rectangle_stat(l, b)\n",
    "\n",
    "print(area, perim)"
   ]
  },
  {
   "cell_type": "markdown",
   "metadata": {},
   "source": [
    "### 4.Calculate the average marks of a student in 5 subjects and give grades accordingly:\n",
    "If average>90 then Grade = A\n",
    "\n",
    "If average>80 then Grade = B\n",
    "\n",
    "If average>70 then Grade = C\n",
    "\n",
    "If average>60 then Grade = D\n",
    "\n",
    "If average>50 then Grade = E\n",
    "\n",
    "else Fail\n",
    "\n",
    "Marks in subject 1= 72\n",
    "\n",
    "Marks in subject 2= 85\n",
    "\n",
    "Marks in subject 3= 96\n",
    "\n",
    "Marks in subject 4= 42\n",
    "\n",
    "Marks in subject 5= 95"
   ]
  },
  {
   "cell_type": "code",
   "execution_count": 4,
   "metadata": {},
   "outputs": [
    {
     "name": "stdout",
     "output_type": "stream",
     "text": [
      "grade:  72 , is a:  C\n",
      "grade:  85 , is a:  B\n",
      "grade:  96 , is a:  A\n",
      "grade:  42 , is a:  fail\n",
      "grade:  95 , is a:  A\n"
     ]
    }
   ],
   "source": [
    "\n",
    "\n",
    "def grade_calc(g):\n",
    "    if g > 90:\n",
    "        return 'A'\n",
    "    elif g > 80:\n",
    "        return 'B'\n",
    "    elif g > 70:\n",
    "        return 'C'\n",
    "    elif g > 60:\n",
    "        return 'D'\n",
    "    else:\n",
    "        return 'fail'\n",
    "    \n",
    "grades = [72, 85, 96, 42, 95]\n",
    "\n",
    "for x in grades:\n",
    "    print(\"grade: \", x, \", is a: \", grade_calc(x))\n",
    "    \n"
   ]
  },
  {
   "cell_type": "markdown",
   "metadata": {},
   "source": [
    "###  5.check if a triangle is equilateral, isosceles or scalene.\n",
    "\n",
    "Hint :\n",
    "1. An equilateral triangle is a triangle in which all three sides are equal.\n",
    "\n",
    "2. A scalene triangle is a triangle that has three unequal sides.\n",
    "\n",
    "3. An isosceles triangle is a triangle with (at least) two equal sides.\n",
    "\n",
    "Dimensions of triangle:\n",
    "\n",
    "side 1 = 6 \n",
    "\n",
    "side 2 = 8 \n",
    "\n",
    "side 3 = 12"
   ]
  },
  {
   "cell_type": "code",
   "execution_count": 7,
   "metadata": {},
   "outputs": [
    {
     "name": "stdout",
     "output_type": "stream",
     "text": [
      "scaline\n"
     ]
    }
   ],
   "source": [
    "def tri_check(s1, s2, s3):\n",
    "    if s1 == s3 and s1 == s2:\n",
    "        return \"equilateral\"\n",
    "    elif s1 != s2 and s1 != s3 and s2 != s3:\n",
    "        return \"scaline\"\n",
    "    else:\n",
    "        return \"isosceles\"\n",
    "\n",
    "side1 = 6\n",
    "side2 = 8\n",
    "side3 = 12\n",
    "\n",
    "print(tri_check(side1, side2, side3))    "
   ]
  },
  {
   "cell_type": "markdown",
   "metadata": {},
   "source": [
    "### 6. Check if the word \"Data\" is present in the sentence \"I am a Data Scientist\". If found print \"It is present\" else print FALSE"
   ]
  },
  {
   "cell_type": "code",
   "execution_count": 9,
   "metadata": {},
   "outputs": [
    {
     "name": "stdout",
     "output_type": "stream",
     "text": [
      "Data  is contained in ' I am a Data Scientidst '\n"
     ]
    }
   ],
   "source": [
    "\n",
    "str = \"Data\"\n",
    "sen = \"I am a Data Scientidst\"\n",
    "\n",
    "if str in sen:\n",
    "    print(str, \" is contained in '\", sen, \"'\")\n",
    "else:\n",
    "    print(str, \" is not contained in \", sen)"
   ]
  },
  {
   "cell_type": "markdown",
   "metadata": {},
   "source": [
    "### 7. Write python code to check if a number is positive or negative."
   ]
  },
  {
   "cell_type": "code",
   "execution_count": 11,
   "metadata": {},
   "outputs": [
    {
     "name": "stdout",
     "output_type": "stream",
     "text": [
      "pos\n"
     ]
    }
   ],
   "source": [
    "def pos_check(x):\n",
    "    if x > 0:\n",
    "        return 'pos'\n",
    "    elif x < 0:\n",
    "        return 'neg'\n",
    "    else:\n",
    "        return '0'\n",
    "    \n",
    "print(pos_check(2))"
   ]
  },
  {
   "cell_type": "markdown",
   "metadata": {},
   "source": [
    "### 8. x = 20 and y = 30 write a python code to check if x is is less then y?"
   ]
  },
  {
   "cell_type": "code",
   "execution_count": 13,
   "metadata": {},
   "outputs": [
    {
     "name": "stdout",
     "output_type": "stream",
     "text": [
      "y  is bigger\n"
     ]
    }
   ],
   "source": [
    "def bigger(x, y):\n",
    "    if x > y: \n",
    "        return \"x\"\n",
    "    if x < y: \n",
    "        return \"y\"\n",
    "    else:\n",
    "        return \"=\"\n",
    "    \n",
    "    \n",
    "x = 20\n",
    "y = 30\n",
    "\n",
    "print(bigger(x, y), \" is bigger\")"
   ]
  },
  {
   "cell_type": "markdown",
   "metadata": {},
   "source": [
    "### 9. Based on the users age, divide them into three groups \n",
    "    Group 1 : Age <18 , Minors who are not eligible to work\n",
    "    Group 2 : 18<Age<60 , ELigible to work\n",
    "    Group 3 : >60, Too old to work as per govt. regulations. \n",
    "\n",
    "    Write a python code for the same"
   ]
  },
  {
   "cell_type": "code",
   "execution_count": null,
   "metadata": {},
   "outputs": [],
   "source": [
    "\n",
    "def which_person(p):\n",
    "    if p < 18:\n",
    "        return \"this is a minor who is not eligable to work\"\n",
    "    if p < 60:\n",
    "        return \"eligable to work\"\n",
    "    else:\n",
    "        return \"this is a person to old to work\""
   ]
  },
  {
   "cell_type": "markdown",
   "metadata": {},
   "source": [
    "### 10. From the age of 3 people determine the oldest person among them.\n",
    "Age of first person = 25\n",
    "\n",
    "Age of second person = 34\n",
    "\n",
    "Age of third person = 45"
   ]
  },
  {
   "cell_type": "code",
   "execution_count": 18,
   "metadata": {},
   "outputs": [
    {
     "name": "stdout",
     "output_type": "stream",
     "text": [
      "eligable to work\n",
      "eligable to work\n",
      "eligable to work\n"
     ]
    }
   ],
   "source": [
    "p1 = 25\n",
    "p2 = 34\n",
    "p3 = 45\n",
    "\n",
    "def which_person(p):\n",
    "    if p < 18:\n",
    "        return \"this is a minor who is not eligable to work\"\n",
    "    if p < 60:\n",
    "        return \"eligable to work\"\n",
    "    else:\n",
    "        return \"this is a person to old to work\"\n",
    "\n",
    "print(which_person(p1))\n",
    "print(which_person(p2))\n",
    "print(which_person(p3))"
   ]
  }
 ],
 "metadata": {
  "kernelspec": {
   "display_name": "Python 3",
   "language": "python",
   "name": "python3"
  },
  "language_info": {
   "codemirror_mode": {
    "name": "ipython",
    "version": 3
   },
   "file_extension": ".py",
   "mimetype": "text/x-python",
   "name": "python",
   "nbconvert_exporter": "python",
   "pygments_lexer": "ipython3",
   "version": "3.9.10"
  }
 },
 "nbformat": 4,
 "nbformat_minor": 4
}

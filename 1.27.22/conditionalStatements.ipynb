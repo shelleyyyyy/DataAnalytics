{
 "cells": [
  {
   "cell_type": "code",
   "execution_count": 14,
   "metadata": {},
   "outputs": [
    {
     "name": "stdout",
     "output_type": "stream",
     "text": [
      "they are equal\n"
     ]
    }
   ],
   "source": [
    "a = 10\n",
    "b = 10\n",
    "\n",
    "if a > b: \n",
    "    print(\"a is greater\")\n",
    "elif a == b:\n",
    "    print(\"they are equal\")\n",
    "else:\n",
    "    print(\"b is greater\")\n",
    "    "
   ]
  },
  {
   "cell_type": "code",
   "execution_count": 15,
   "metadata": {},
   "outputs": [
    {
     "name": "stdout",
     "output_type": "stream",
     "text": [
      "4\n",
      "9.4\n",
      "[1.6, 3.4, 5.5, 9.4]\n",
      "1.6 , \n",
      "3.4 , \n",
      "5.5 , \n",
      "9.4 , \n"
     ]
    }
   ],
   "source": [
    "data = [1.6, 3.4, 5.5, 9.4]\n",
    "\n",
    "n = len(data)\n",
    "\n",
    "print(n)\n",
    "\n",
    "print(data[3])\n",
    "\n",
    "# data[2] = 7.3\n",
    "\n",
    "print(data)\n",
    "\n",
    "for x in data:\n",
    "    print(x, \", \")"
   ]
  },
  {
   "cell_type": "code",
   "execution_count": 16,
   "metadata": {},
   "outputs": [
    {
     "name": "stdout",
     "output_type": "stream",
     "text": [
      "4\n",
      "8\n",
      "12\n"
     ]
    }
   ],
   "source": [
    "for x in range(4, 13, 4):\n",
    "    \n",
    "    print(x)"
   ]
  },
  {
   "cell_type": "code",
   "execution_count": 17,
   "metadata": {},
   "outputs": [
    {
     "name": "stdout",
     "output_type": "stream",
     "text": [
      "19.9\n",
      "4.975\n"
     ]
    }
   ],
   "source": [
    "def findSum(data):\n",
    "    sum = 0\n",
    "    for x in data:\n",
    "        sum += x\n",
    "    return sum\n",
    "\n",
    "def findAvg(data):\n",
    "    return findSum(data) / len(data)\n",
    "\n",
    "print(findSum(data))\n",
    "\n",
    "print(findAvg(data))"
   ]
  },
  {
   "cell_type": "code",
   "execution_count": 18,
   "metadata": {},
   "outputs": [
    {
     "name": "stdout",
     "output_type": "stream",
     "text": [
      "0\n",
      "1\n",
      "1\n",
      "2\n",
      "3\n",
      "5\n",
      "8\n",
      "13\n",
      "21\n",
      "34\n"
     ]
    }
   ],
   "source": [
    "n = 10\n",
    "fib1 = 0\n",
    "fib2 = 1\n",
    "\n",
    "print(fib1)\n",
    "print(fib2)\n",
    "\n",
    "for k in range(n - 2):\n",
    "    fib_next = fib1 + fib2\n",
    "    fib1 = fib2\n",
    "    fib2 = fib_next\n",
    "    print(fib2)"
   ]
  },
  {
   "cell_type": "code",
   "execution_count": 34,
   "metadata": {},
   "outputs": [
    {
     "name": "stdout",
     "output_type": "stream",
     "text": [
      "5\n"
     ]
    }
   ],
   "source": [
    "def bin_search(data, key):\n",
    "    high = len(data)\n",
    "    low = 0\n",
    "    \n",
    "    while low <= high:\n",
    "        mid = round((high + low) / 2)\n",
    "        \n",
    "        if data[mid] == key:\n",
    "            return mid\n",
    "        \n",
    "        if data[mid] < key:\n",
    "            low = mid + 1\n",
    "            \n",
    "        if data[mid] > key:\n",
    "            high = mid - 1\n",
    "            \n",
    "        \n",
    "    return -1\n",
    "\n",
    "info = [1, 2, 3, 4, 5, 9, 11, 16, 20]\n",
    "\n",
    "print(bin_search(info, 9))"
   ]
  }
 ],
 "metadata": {
  "interpreter": {
   "hash": "c0acacefa1b492d3181766241476fe2d868ca237765187d204393d25d1696e81"
  },
  "kernelspec": {
   "display_name": "Python 3.9.10 64-bit (windows store)",
   "language": "python",
   "name": "python3"
  },
  "language_info": {
   "codemirror_mode": {
    "name": "ipython",
    "version": 3
   },
   "file_extension": ".py",
   "mimetype": "text/x-python",
   "name": "python",
   "nbconvert_exporter": "python",
   "pygments_lexer": "ipython3",
   "version": "3.9.10"
  },
  "orig_nbformat": 4
 },
 "nbformat": 4,
 "nbformat_minor": 2
}

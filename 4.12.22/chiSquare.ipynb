{
 "cells": [
  {
   "cell_type": "code",
   "execution_count": 3,
   "metadata": {},
   "outputs": [],
   "source": [
    "import pandas as pd\n",
    "import numpy as np\n",
    "import scipy.stats as stats\n",
    "from scipy.stats import norm\n",
    "from scipy.stats import chi2_contingency"
   ]
  },
  {
   "cell_type": "code",
   "execution_count": 2,
   "metadata": {},
   "outputs": [
    {
     "name": "stdout",
     "output_type": "stream",
     "text": [
      "  Download  Original   New\n",
      "0      Yes       351   451\n",
      "1       No      3291  3105\n"
     ]
    }
   ],
   "source": [
    "data = {'Download': ['Yes', 'No'], 'Original': [351, 3291], 'New': [451, 3105]}\n",
    "\n",
    "df = pd.DataFrame(data)\n",
    "print(df)"
   ]
  },
  {
   "cell_type": "code",
   "execution_count": 5,
   "metadata": {},
   "outputs": [
    {
     "name": "stdout",
     "output_type": "stream",
     "text": [
      "Chi-Square Statistic:  16.546553243451847\n",
      "P-Value:  4.7470190781763825e-05\n",
      "dof:  1\n",
      "expected:  [[ 405.79105307  396.20894693]\n",
      " [3236.20894693 3159.79105307]]\n"
     ]
    }
   ],
   "source": [
    "chi, p_value, dof, expected = chi2_contingency(df.drop('Download', axis=1))\n",
    "print(\"Chi-Square Statistic: \", chi)\n",
    "print(\"P-Value: \", p_value)\n",
    "print(\"dof: \", dof)\n",
    "print(\"expected: \", expected)"
   ]
  },
  {
   "cell_type": "code",
   "execution_count": 10,
   "metadata": {},
   "outputs": [
    {
     "name": "stdout",
     "output_type": "stream",
     "text": [
      "   Drink   Soft  other\n",
      "0  39.52  62.17  33.30\n",
      "1  29.28  46.05  24.67\n",
      "2  20.20  31.77  17.02\n"
     ]
    }
   ],
   "source": [
    "data2 = {\"Drink\": [39.52, 29.28, 20.20], \"Soft\": [62.17, 46.05, 31.77], \"other\": [33.30, 24.67, 17.02]}\n",
    "\n",
    "df1 = pd.DataFrame(data2)\n",
    "\n",
    "print(df1)"
   ]
  },
  {
   "cell_type": "code",
   "execution_count": 12,
   "metadata": {},
   "outputs": [
    {
     "name": "stdout",
     "output_type": "stream",
     "text": [
      "Chi-Square Statistic:  8.540378310640137e-07\n",
      "P-Value:  0.9999999999999089\n",
      "dof:  4\n",
      "expected:  [[39.52269886 62.16609678 33.30120436]\n",
      " [29.27824199 46.05237187 24.66938614]\n",
      " [20.19905915 31.77153135 17.0194095 ]]\n"
     ]
    }
   ],
   "source": [
    "chi, p_value, dof, expected = chi2_contingency(df1)\n",
    "print(\"Chi-Square Statistic: \", chi)\n",
    "print(\"P-Value: \", p_value)\n",
    "print(\"dof: \", dof)\n",
    "print(\"expected: \", expected)"
   ]
  }
 ],
 "metadata": {
  "interpreter": {
   "hash": "c0acacefa1b492d3181766241476fe2d868ca237765187d204393d25d1696e81"
  },
  "kernelspec": {
   "display_name": "Python 3.9.12 64-bit (windows store)",
   "language": "python",
   "name": "python3"
  },
  "language_info": {
   "codemirror_mode": {
    "name": "ipython",
    "version": 3
   },
   "file_extension": ".py",
   "mimetype": "text/x-python",
   "name": "python",
   "nbconvert_exporter": "python",
   "pygments_lexer": "ipython3",
   "version": "3.9.12"
  },
  "orig_nbformat": 4
 },
 "nbformat": 4,
 "nbformat_minor": 2
}

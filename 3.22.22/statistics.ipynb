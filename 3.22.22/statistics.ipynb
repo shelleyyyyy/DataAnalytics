{
 "cells": [
  {
   "cell_type": "code",
   "execution_count": 4,
   "metadata": {},
   "outputs": [],
   "source": [
    "import pandas as pd\n",
    "import numpy as np\n",
    "from scipy.stats import binom\n",
    "from scipy.stats import poisson\n",
    "from scipy.stats import norm\n",
    "from scipy.stats import t\n",
    "import matplotlib.pyplot as plt\n"
   ]
  },
  {
   "cell_type": "markdown",
   "metadata": {},
   "source": [
    "### probability mass functjion"
   ]
  },
  {
   "cell_type": "code",
   "execution_count": 5,
   "metadata": {},
   "outputs": [
    {
     "name": "stdout",
     "output_type": "stream",
     "text": [
      "0.375\n"
     ]
    }
   ],
   "source": [
    "binomial = binom.pmf(k=1, n=3, p=.5)\n",
    "print(round(binomial, 3))"
   ]
  },
  {
   "cell_type": "markdown",
   "metadata": {},
   "source": [
    "### probability that 4 or more with "
   ]
  },
  {
   "cell_type": "code",
   "execution_count": 6,
   "metadata": {},
   "outputs": [
    {
     "name": "stdout",
     "output_type": "stream",
     "text": [
      "0.0029\n"
     ]
    }
   ],
   "source": [
    "b1 = 1 - binom.cdf(k=3, n=5, p=.16)\n",
    "print(round(b1, 4))"
   ]
  },
  {
   "cell_type": "markdown",
   "metadata": {},
   "source": [
    "#### 80% of all the visitors to Lavista Museum end up buying souvnirs from the shop.\n",
    "* Find the Probability that every visitor will end up buying from the souvenirs shop. \n",
    "* Find the Probability that a maximum of 7 visitors will buy souvenirs from the shop."
   ]
  },
  {
   "cell_type": "code",
   "execution_count": 7,
   "metadata": {},
   "outputs": [
    {
     "name": "stdout",
     "output_type": "stream",
     "text": [
      "[1.02400000e-07 4.09600000e-06 7.37280000e-05 7.86432000e-04\n",
      " 5.50502400e-03 2.64241152e-02 8.80803840e-02 2.01326592e-01\n",
      " 3.01989888e-01 2.68435456e-01 1.07374182e-01]\n"
     ]
    }
   ],
   "source": [
    "# n = 10\n",
    "# p = .8\n",
    "\n",
    "b2 = binom.pmf(k=np.arange(0, 11), n=10, p=.8)\n",
    "print(b2)"
   ]
  },
  {
   "cell_type": "code",
   "execution_count": 8,
   "metadata": {},
   "outputs": [],
   "source": [
    "# Plotting bar chart for the binomial distribution function\n",
    "# k = np.arange(0, 11)\n",
    "# plt.bar(k, b2)\n",
    "# plt.title(\"Binomial: n = %i, p = %.2f\" %(n, p), fontsize=10)\n",
    "# plt.xlabel(\"The number of succeseses\")\n",
    "# plt.ylabel(\"Probability of success\")"
   ]
  },
  {
   "cell_type": "markdown",
   "metadata": {},
   "source": [
    "# Poison Distribution"
   ]
  },
  {
   "cell_type": "code",
   "execution_count": 9,
   "metadata": {},
   "outputs": [
    {
     "name": "stdout",
     "output_type": "stream",
     "text": [
      "[0.04978707 0.14936121 0.22404181]\n"
     ]
    }
   ],
   "source": [
    "k_ = np.arange(0, 3)\n",
    "poissonDist = poisson.pmf(k=k_, mu=3)\n",
    "print(poissonDist)\n"
   ]
  },
  {
   "cell_type": "markdown",
   "metadata": {},
   "source": [
    "#### Compute the probability of 2 or fewer customers arrivals per minute \n",
    "* 2 or fewer is a range so use .cdf"
   ]
  },
  {
   "cell_type": "code",
   "execution_count": 10,
   "metadata": {},
   "outputs": [
    {
     "name": "stdout",
     "output_type": "stream",
     "text": [
      "0.44567964136461097\n"
     ]
    }
   ],
   "source": [
    "p2orfewer = poisson.cdf(k=5, mu=6)\n",
    "print(p2orfewer)"
   ]
  },
  {
   "cell_type": "markdown",
   "metadata": {},
   "source": [
    "#### A store sells 3 apples a day on average. What is the probability that they will sell 5 appleson a given day?\n",
    "* 5 is one value you want to find the probability of, so use .pmf"
   ]
  },
  {
   "cell_type": "code",
   "execution_count": 39,
   "metadata": {},
   "outputs": [
    {
     "name": "stdout",
     "output_type": "stream",
     "text": [
      "0.061968804416658946\n",
      "0.06196880441665898\n"
     ]
    }
   ],
   "source": [
    "one = poisson.pmf(k=0, mu=6)\n",
    "two = poisson.pmf(k=1, mu=6)\n",
    "three = poisson.pmf(k=2, mu=6)\n",
    "print(one + two + three)\n",
    "print(poisson.cdf(k=2, mu=6))"
   ]
  },
  {
   "cell_type": "markdown",
   "metadata": {},
   "source": [
    "#### a certain store sells seven footballs per day on average. What is the probability that this store sells four or less footballs in a given day?"
   ]
  },
  {
   "cell_type": "code",
   "execution_count": 31,
   "metadata": {},
   "outputs": [
    {
     "name": "stdout",
     "output_type": "stream",
     "text": [
      "0.17299160788207146\n"
     ]
    }
   ],
   "source": [
    "# k_ = np.arange(0, 8)\n",
    "\n",
    "four = poisson.cdf(k=4, mu=7)\n",
    "print(four)"
   ]
  },
  {
   "cell_type": "markdown",
   "metadata": {},
   "source": [
    "#### A certain store sells 15 cans of tuna per day on average, What is the probability that this store sells more than 20 cans of tuna in a given day?"
   ]
  },
  {
   "cell_type": "code",
   "execution_count": 13,
   "metadata": {},
   "outputs": [
    {
     "name": "stdout",
     "output_type": "stream",
     "text": [
      "0.08297091003146029\n"
     ]
    }
   ],
   "source": [
    "# p(x > 20)\n",
    "\n",
    "poisonCDF = poisson.cdf(k=20, mu=15)\n",
    "\n",
    "\n",
    "# 1 - the probability that it is less than 20 gives you the probability that it is greater than 20\n",
    "print(1 - poisonCDF)"
   ]
  },
  {
   "cell_type": "markdown",
   "metadata": {},
   "source": [
    "#### Normal Distribution"
   ]
  },
  {
   "cell_type": "code",
   "execution_count": 14,
   "metadata": {},
   "outputs": [
    {
     "name": "stdout",
     "output_type": "stream",
     "text": [
      "0.8413447460685421 ,  0.5\n",
      "0.34134474606854215\n"
     ]
    }
   ],
   "source": [
    "mu = 6.15\n",
    "sigma = .05\n",
    "prob_1 = norm.cdf(6.2, mu, sigma)\n",
    "prob_2 = norm.cdf(6.15, mu, sigma)\n",
    "\n",
    "print(prob_1, \", \", prob_2)\n",
    "\n",
    "prob_bw_the_two_vals = prob_1 - prob_2\n",
    "\n",
    "print(prob_bw_the_two_vals)"
   ]
  },
  {
   "cell_type": "markdown",
   "metadata": {},
   "source": [
    "#### A testing agency wants to analyze the complexity fo SAT exam 2020. They have collected the SAT scores of 1000 students. \n",
    "* Calculate the probability that a students will score less than 800 in the SAT exam. \n",
    "* Calculate the probability that a students will score more than 1300 in the SAT exam.\n",
    "* Calculate the minimum marks a student must score in order to secure 98th percentile. "
   ]
  },
  {
   "cell_type": "code",
   "execution_count": 15,
   "metadata": {},
   "outputs": [],
   "source": [
    "sat_score = pd.read_csv(\"sat_score.csv\")"
   ]
  },
  {
   "cell_type": "code",
   "execution_count": 16,
   "metadata": {},
   "outputs": [],
   "source": [
    "sat = sat_score.copy()"
   ]
  },
  {
   "cell_type": "code",
   "execution_count": 17,
   "metadata": {},
   "outputs": [
    {
     "name": "stdout",
     "output_type": "stream",
     "text": [
      "<class 'pandas.core.frame.DataFrame'>\n",
      "RangeIndex: 1000 entries, 0 to 999\n",
      "Data columns (total 2 columns):\n",
      " #   Column      Non-Null Count  Dtype\n",
      "---  ------      --------------  -----\n",
      " 0   student_id  1000 non-null   int64\n",
      " 1   score       1000 non-null   int64\n",
      "dtypes: int64(2)\n",
      "memory usage: 15.8 KB\n"
     ]
    },
    {
     "data": {
      "text/html": [
       "<div>\n",
       "<style scoped>\n",
       "    .dataframe tbody tr th:only-of-type {\n",
       "        vertical-align: middle;\n",
       "    }\n",
       "\n",
       "    .dataframe tbody tr th {\n",
       "        vertical-align: top;\n",
       "    }\n",
       "\n",
       "    .dataframe thead th {\n",
       "        text-align: right;\n",
       "    }\n",
       "</style>\n",
       "<table border=\"1\" class=\"dataframe\">\n",
       "  <thead>\n",
       "    <tr style=\"text-align: right;\">\n",
       "      <th></th>\n",
       "      <th>student_id</th>\n",
       "      <th>score</th>\n",
       "    </tr>\n",
       "  </thead>\n",
       "  <tbody>\n",
       "    <tr>\n",
       "      <th>0</th>\n",
       "      <td>1</td>\n",
       "      <td>1018</td>\n",
       "    </tr>\n",
       "    <tr>\n",
       "      <th>1</th>\n",
       "      <td>2</td>\n",
       "      <td>1218</td>\n",
       "    </tr>\n",
       "    <tr>\n",
       "      <th>2</th>\n",
       "      <td>3</td>\n",
       "      <td>611</td>\n",
       "    </tr>\n",
       "    <tr>\n",
       "      <th>3</th>\n",
       "      <td>4</td>\n",
       "      <td>723</td>\n",
       "    </tr>\n",
       "    <tr>\n",
       "      <th>4</th>\n",
       "      <td>5</td>\n",
       "      <td>541</td>\n",
       "    </tr>\n",
       "  </tbody>\n",
       "</table>\n",
       "</div>"
      ],
      "text/plain": [
       "   student_id  score\n",
       "0           1   1018\n",
       "1           2   1218\n",
       "2           3    611\n",
       "3           4    723\n",
       "4           5    541"
      ]
     },
     "execution_count": 17,
     "metadata": {},
     "output_type": "execute_result"
    }
   ],
   "source": [
    "sat.info()\n",
    "sat.head()\n",
    "\n",
    "# sat[\"score\"] = sat.score.astype(\"float\")"
   ]
  },
  {
   "cell_type": "code",
   "execution_count": 18,
   "metadata": {},
   "outputs": [
    {
     "name": "stdout",
     "output_type": "stream",
     "text": [
      "mu:  1007.46\n",
      "sigma:  204.42601\n"
     ]
    }
   ],
   "source": [
    "mu = sat[\"score\"].mean()\n",
    "sigma = sat[\"score\"].std()\n",
    "\n",
    "print(\"mu: \", round(mu, 5))\n",
    "print(\"sigma: \", round(sigma, 5))"
   ]
  },
  {
   "cell_type": "code",
   "execution_count": 19,
   "metadata": {},
   "outputs": [
    {
     "name": "stdout",
     "output_type": "stream",
     "text": [
      "answer:  0.15509068891539884\n"
     ]
    }
   ],
   "source": [
    "prob_less_800 = norm.cdf(800, mu, sigma)\n",
    "print(\"answer: \", prob_less_800)"
   ]
  },
  {
   "cell_type": "code",
   "execution_count": 20,
   "metadata": {},
   "outputs": [
    {
     "name": "stdout",
     "output_type": "stream",
     "text": [
      "answer:  0.07621063272885598\n"
     ]
    }
   ],
   "source": [
    "prob_more_1300 = 1 - norm.cdf(1300, mu, sigma)\n",
    "\n",
    "print(\"answer: \", prob_more_1300)\n",
    "\n"
   ]
  },
  {
   "cell_type": "code",
   "execution_count": 21,
   "metadata": {},
   "outputs": [
    {
     "name": "stdout",
     "output_type": "stream",
     "text": [
      "answer:  1269.4424694794877\n"
     ]
    }
   ],
   "source": [
    "# probability percentile function\n",
    "score_90th_percentile = norm.ppf(.9, mu, sigma)\n",
    "\n",
    "print(\"answer: \", score_90th_percentile)"
   ]
  },
  {
   "cell_type": "code",
   "execution_count": 22,
   "metadata": {},
   "outputs": [
    {
     "name": "stdout",
     "output_type": "stream",
     "text": [
      "[109.44 114.56]\n"
     ]
    }
   ],
   "source": [
    "x_bar = 112\n",
    "sigma = 11\n",
    "n = 100\n",
    "ci = norm.interval(.98, loc=x_bar, scale=sigma/np.sqrt(n))\n",
    "\n",
    "print(np.round(ci, 2))"
   ]
  },
  {
   "cell_type": "code",
   "execution_count": 23,
   "metadata": {},
   "outputs": [
    {
     "name": "stdout",
     "output_type": "stream",
     "text": [
      "[68.3  71.14]\n"
     ]
    }
   ],
   "source": [
    "# sample std, sample mean, sample size, degrees of freedom\n",
    "# sigma is unknown for the population, we only have the sample std\n",
    "\n",
    "\n",
    "x_bar, s = 69.72, 4.15\n",
    "n = 25\n",
    "k = n -1\n",
    "CI = t.interval(0.90, df=k, loc=x_bar, scale=s/np.sqrt(n))\n",
    "\n",
    "print(np.round(CI, 2))"
   ]
  },
  {
   "cell_type": "code",
   "execution_count": 24,
   "metadata": {},
   "outputs": [
    {
     "name": "stdout",
     "output_type": "stream",
     "text": [
      "(0.09139434167485169, 0.2200810681612139)\n"
     ]
    }
   ],
   "source": [
    "from statsmodels.stats.proportion import proportion_confint\n",
    "\n",
    "proportion_confint = proportion_confint(count=19, nobs=122)\n",
    "\n",
    "print(proportion_confint)"
   ]
  },
  {
   "cell_type": "markdown",
   "metadata": {},
   "source": [
    "The caffeine content in mg was examinded for a random sample of 50 cups of black coffea dispensed by a new coffee machine. The mean of the sample is found to be 110mg. It is known that the std from all the machines of that manufacturer is 7mg. Construct a 95% confidence interval for mu, the mean caffeine content for cups dispensed by the machine. "
   ]
  },
  {
   "cell_type": "code",
   "execution_count": 25,
   "metadata": {},
   "outputs": [
    {
     "data": {
      "text/plain": [
       "(108.05973464591045, 111.94026535408955)"
      ]
     },
     "execution_count": 25,
     "metadata": {},
     "output_type": "execute_result"
    }
   ],
   "source": [
    "# sigma is known so we use the normal distribution to find the true mean\n",
    "\n",
    "n = 50\n",
    "k = n - 1\n",
    "x_bar = 110\n",
    "ci = .95\n",
    "sigma = 7\n",
    "\n",
    "\n",
    "CI = norm.interval(ci, loc=x_bar, scale=sigma/np.sqrt(n))\n",
    "\n",
    "CI"
   ]
  },
  {
   "cell_type": "code",
   "execution_count": 26,
   "metadata": {},
   "outputs": [
    {
     "name": "stdout",
     "output_type": "stream",
     "text": [
      "[108.01 111.99]\n"
     ]
    }
   ],
   "source": [
    "\n",
    "s = 7\n",
    "\n",
    "CI = t.interval(ci, df=k, loc=x_bar, scale=s/np.sqrt(n))\n",
    "\n",
    "print(np.round(CI, 2))"
   ]
  },
  {
   "cell_type": "code",
   "execution_count": 27,
   "metadata": {},
   "outputs": [
    {
     "ename": "TypeError",
     "evalue": "'tuple' object is not callable",
     "output_type": "error",
     "traceback": [
      "\u001b[1;31m---------------------------------------------------------------------------\u001b[0m",
      "\u001b[1;31mTypeError\u001b[0m                                 Traceback (most recent call last)",
      "\u001b[1;32mc:\\Users\\Willi\\VisualStudioProjects\\DataAnalytics\\3.22.22\\statistics.ipynb Cell 35'\u001b[0m in \u001b[0;36m<module>\u001b[1;34m\u001b[0m\n\u001b[1;32m----> <a href='vscode-notebook-cell:/c%3A/Users/Willi/VisualStudioProjects/DataAnalytics/3.22.22/statistics.ipynb#ch0000034?line=0'>1</a>\u001b[0m np\u001b[39m.\u001b[39mround(proportion_confint(alpha\u001b[39m=\u001b[39;49m\u001b[39m.02\u001b[39;49m, count\u001b[39m=\u001b[39;49m((\u001b[39m85\u001b[39;49m\u001b[39m*\u001b[39;49m \u001b[39m250\u001b[39;49m)\u001b[39m/\u001b[39;49m\u001b[39m100\u001b[39;49m), nobs\u001b[39m=\u001b[39;49m\u001b[39m250\u001b[39;49m), \u001b[39m2\u001b[39m)\n",
      "\u001b[1;31mTypeError\u001b[0m: 'tuple' object is not callable"
     ]
    }
   ],
   "source": [
    "np.round(proportion_confint(alpha=.02, count=((85* 250)/100), nobs=250), 2)\n",
    "\n"
   ]
  }
 ],
 "metadata": {
  "interpreter": {
   "hash": "c0acacefa1b492d3181766241476fe2d868ca237765187d204393d25d1696e81"
  },
  "kernelspec": {
   "display_name": "Python 3.9.10 64-bit (windows store)",
   "language": "python",
   "name": "python3"
  },
  "language_info": {
   "codemirror_mode": {
    "name": "ipython",
    "version": 3
   },
   "file_extension": ".py",
   "mimetype": "text/x-python",
   "name": "python",
   "nbconvert_exporter": "python",
   "pygments_lexer": "ipython3",
   "version": "3.9.12"
  },
  "orig_nbformat": 4
 },
 "nbformat": 4,
 "nbformat_minor": 2
}
